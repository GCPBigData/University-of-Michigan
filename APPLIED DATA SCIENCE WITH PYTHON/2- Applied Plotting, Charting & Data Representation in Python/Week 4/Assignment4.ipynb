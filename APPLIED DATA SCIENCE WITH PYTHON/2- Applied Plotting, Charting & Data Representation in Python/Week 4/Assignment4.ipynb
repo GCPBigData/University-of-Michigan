{
 "cells": [
  {
   "cell_type": "markdown",
   "metadata": {},
   "source": [
    "# Assignment 4\n",
    "\n",
    "Before working on this assignment please read these instructions fully. In the submission area, you will notice that you can click the link to **Preview the Grading** for each step of the assignment. This is the criteria that will be used for peer grading. Please familiarize yourself with the criteria before beginning the assignment.\n",
    "\n",
    "This assignment requires that you to find **at least** two datasets on the web which are related, and that you visualize these datasets to answer a question with the broad topic of **sports or athletics** (see below) for the region of **Ann Arbor, Michigan, United States**, or **United States** more broadly.\n",
    "\n",
    "You can merge these datasets with data from different regions if you like! For instance, you might want to compare **Ann Arbor, Michigan, United States** to Ann Arbor, USA. In that case at least one source file must be about **Ann Arbor, Michigan, United States**.\n",
    "\n",
    "You are welcome to choose datasets at your discretion, but keep in mind **they will be shared with your peers**, so choose appropriate datasets. Sensitive, confidential, illicit, and proprietary materials are not good choices for datasets for this assignment. You are welcome to upload datasets of your own as well, and link to them using a third party repository such as github, bitbucket, pastebin, etc. Please be aware of the Coursera terms of service with respect to intellectual property.\n",
    "\n",
    "Also, you are welcome to preserve data in its original language, but for the purposes of grading you should provide english translations. You are welcome to provide multiple visuals in different languages if you would like!\n",
    "\n",
    "As this assignment is for the whole course, you must incorporate principles discussed in the first week, such as having as high data-ink ratio (Tufte) and aligning with Cairo’s principles of truth, beauty, function, and insight.\n",
    "\n",
    "Here are the assignment instructions:\n",
    "\n",
    " * State the region and the domain category that your data sets are about (e.g., **Ann Arbor, Michigan, United States** and **sports or athletics**).\n",
    " * You must state a question about the domain category and region that you identified as being interesting.\n",
    " * You must provide at least two links to available datasets. These could be links to files such as CSV or Excel files, or links to websites which might have data in tabular form, such as Wikipedia pages.\n",
    " * You must upload an image which addresses the research question you stated. In addition to addressing the question, this visual should follow Cairo's principles of truthfulness, functionality, beauty, and insightfulness.\n",
    " * You must contribute a short (1-2 paragraph) written justification of how your visualization addresses your stated research question.\n",
    "\n",
    "What do we mean by **sports or athletics**?  For this category we are interested in sporting events or athletics broadly, please feel free to creatively interpret the category when building your research question!\n",
    "\n",
    "## Tips\n",
    "* Wikipedia is an excellent source of data, and I strongly encourage you to explore it for new data sources.\n",
    "* Many governments run open data initiatives at the city, region, and country levels, and these are wonderful resources for localized data sources.\n",
    "* Several international agencies, such as the [United Nations](http://data.un.org/), the [World Bank](http://data.worldbank.org/), the [Global Open Data Index](http://index.okfn.org/place/) are other great places to look for data.\n",
    "* This assignment requires you to convert and clean datafiles. Check out the discussion forums for tips on how to do this from various sources, and share your successes with your fellow students!\n",
    "\n",
    "## Example\n",
    "Looking for an example? Here's what our course assistant put together for the **Ann Arbor, MI, USA** area using **sports and athletics** as the topic. [Example Solution File](./readonly/Assignment4_example.pdf)"
   ]
  },
  {
   "cell_type": "code",
   "execution_count": 1,
   "metadata": {},
   "outputs": [],
   "source": [
    "# Data Link: \n",
    "#     https://osf.io/6hy8v/"
   ]
  },
  {
   "cell_type": "code",
   "execution_count": 2,
   "metadata": {},
   "outputs": [],
   "source": [
    "import pandas as pd\n",
    "import matplotlib.pyplot as plt\n",
    "import seaborn as sns"
   ]
  },
  {
   "cell_type": "code",
   "execution_count": 3,
   "metadata": {},
   "outputs": [
    {
     "data": {
      "text/html": [
       "<div>\n",
       "<style scoped>\n",
       "    .dataframe tbody tr th:only-of-type {\n",
       "        vertical-align: middle;\n",
       "    }\n",
       "\n",
       "    .dataframe tbody tr th {\n",
       "        vertical-align: top;\n",
       "    }\n",
       "\n",
       "    .dataframe thead th {\n",
       "        text-align: right;\n",
       "    }\n",
       "</style>\n",
       "<table border=\"1\" class=\"dataframe\">\n",
       "  <thead>\n",
       "    <tr style=\"text-align: right;\">\n",
       "      <th></th>\n",
       "      <th>Series Name</th>\n",
       "      <th>Country Name</th>\n",
       "      <th>Time</th>\n",
       "      <th>Value</th>\n",
       "    </tr>\n",
       "  </thead>\n",
       "  <tbody>\n",
       "    <tr>\n",
       "      <td>0</td>\n",
       "      <td>GDP per capita (constant 2010 US$)</td>\n",
       "      <td>Argentina</td>\n",
       "      <td>2001.0</td>\n",
       "      <td>7756.187018</td>\n",
       "    </tr>\n",
       "    <tr>\n",
       "      <td>1</td>\n",
       "      <td>GDP per capita (constant 2010 US$)</td>\n",
       "      <td>Argentina</td>\n",
       "      <td>2002.0</td>\n",
       "      <td>6834.962261</td>\n",
       "    </tr>\n",
       "    <tr>\n",
       "      <td>2</td>\n",
       "      <td>GDP per capita (constant 2010 US$)</td>\n",
       "      <td>Argentina</td>\n",
       "      <td>2003.0</td>\n",
       "      <td>7357.408446</td>\n",
       "    </tr>\n",
       "    <tr>\n",
       "      <td>3</td>\n",
       "      <td>GDP per capita (constant 2010 US$)</td>\n",
       "      <td>Argentina</td>\n",
       "      <td>2004.0</td>\n",
       "      <td>7934.902330</td>\n",
       "    </tr>\n",
       "    <tr>\n",
       "      <td>4</td>\n",
       "      <td>GDP per capita (constant 2010 US$)</td>\n",
       "      <td>Argentina</td>\n",
       "      <td>2005.0</td>\n",
       "      <td>8548.282637</td>\n",
       "    </tr>\n",
       "  </tbody>\n",
       "</table>\n",
       "</div>"
      ],
      "text/plain": [
       "                          Series Name Country Name    Time        Value\n",
       "0  GDP per capita (constant 2010 US$)    Argentina  2001.0  7756.187018\n",
       "1  GDP per capita (constant 2010 US$)    Argentina  2002.0  6834.962261\n",
       "2  GDP per capita (constant 2010 US$)    Argentina  2003.0  7357.408446\n",
       "3  GDP per capita (constant 2010 US$)    Argentina  2004.0  7934.902330\n",
       "4  GDP per capita (constant 2010 US$)    Argentina  2005.0  8548.282637"
      ]
     },
     "execution_count": 3,
     "metadata": {},
     "output_type": "execute_result"
    }
   ],
   "source": [
    "# read the data\n",
    "data = pd.read_excel(\"Data_Extract_From_World_Development_Indicators (GDP per capita).xlsx\")\n",
    "data.head()"
   ]
  },
  {
   "cell_type": "code",
   "execution_count": 4,
   "metadata": {},
   "outputs": [],
   "source": [
    "# create 2001-2011 columns form Time\n",
    "for i in range(1,15):\n",
    "    if i < 10:\n",
    "        data[\"200\"+str(i)] = data[data[\"Time\"] == int(\"200\"+str(i))][\"Value\"]\n",
    "    else:\n",
    "        data[\"20\"+str(i)] = data[data[\"Time\"] == int(\"20\"+str(i))][\"Value\"]"
   ]
  },
  {
   "cell_type": "code",
   "execution_count": 5,
   "metadata": {},
   "outputs": [],
   "source": [
    "# https://www.nationsonline.org/oneworld/map/argentina-administrative-map.htm\n",
    "# Argentina Border countries are Bolivia, Brazil, Chile, Paraguay, and Uruguay."
   ]
  },
  {
   "cell_type": "code",
   "execution_count": 6,
   "metadata": {},
   "outputs": [],
   "source": [
    "# Select only Argentina Border countries\n",
    "data = data[(data['Country Name'] == \"Argentina\") | (data['Country Name'] == \"Bolivia\") | (data['Country Name'] == \"Brazil\") | \n",
    "            (data['Country Name'] == \"Chile\") | (data['Country Name'] == \"Paraguay\") | (data['Country Name'] == \"Uruguay\")]"
   ]
  },
  {
   "cell_type": "code",
   "execution_count": 7,
   "metadata": {},
   "outputs": [],
   "source": [
    "data = data.groupby(\"Country Name\").mean()"
   ]
  },
  {
   "cell_type": "code",
   "execution_count": 8,
   "metadata": {},
   "outputs": [],
   "source": [
    "# Drop useless columns\n",
    "data.drop(data.columns[[0, 1, -1, -2, -3]], inplace=True, axis=1)"
   ]
  },
  {
   "cell_type": "code",
   "execution_count": 9,
   "metadata": {},
   "outputs": [],
   "source": [
    "# Make dates on x axis and countries on y axis\n",
    "data = data.T"
   ]
  },
  {
   "cell_type": "code",
   "execution_count": 10,
   "metadata": {},
   "outputs": [
    {
     "data": {
      "text/html": [
       "<div>\n",
       "<style scoped>\n",
       "    .dataframe tbody tr th:only-of-type {\n",
       "        vertical-align: middle;\n",
       "    }\n",
       "\n",
       "    .dataframe tbody tr th {\n",
       "        vertical-align: top;\n",
       "    }\n",
       "\n",
       "    .dataframe thead th {\n",
       "        text-align: right;\n",
       "    }\n",
       "</style>\n",
       "<table border=\"1\" class=\"dataframe\">\n",
       "  <thead>\n",
       "    <tr style=\"text-align: right;\">\n",
       "      <th>Country Name</th>\n",
       "      <th>Argentina</th>\n",
       "      <th>Bolivia</th>\n",
       "      <th>Brazil</th>\n",
       "      <th>Chile</th>\n",
       "      <th>Paraguay</th>\n",
       "      <th>Uruguay</th>\n",
       "    </tr>\n",
       "  </thead>\n",
       "  <tbody>\n",
       "    <tr>\n",
       "      <td>2001</td>\n",
       "      <td>7756.187018</td>\n",
       "      <td>1613.410246</td>\n",
       "      <td>8743.909691</td>\n",
       "      <td>10037.839034</td>\n",
       "      <td>2618.724799</td>\n",
       "      <td>8636.583130</td>\n",
       "    </tr>\n",
       "    <tr>\n",
       "      <td>2002</td>\n",
       "      <td>6834.962261</td>\n",
       "      <td>1623.519169</td>\n",
       "      <td>8880.166124</td>\n",
       "      <td>10132.548640</td>\n",
       "      <td>2569.689981</td>\n",
       "      <td>7967.209466</td>\n",
       "    </tr>\n",
       "    <tr>\n",
       "      <td>2003</td>\n",
       "      <td>7357.408446</td>\n",
       "      <td>1637.808504</td>\n",
       "      <td>8855.152078</td>\n",
       "      <td>10409.770102</td>\n",
       "      <td>2633.236547</td>\n",
       "      <td>8036.519289</td>\n",
       "    </tr>\n",
       "    <tr>\n",
       "      <td>2004</td>\n",
       "      <td>7934.902330</td>\n",
       "      <td>1676.228147</td>\n",
       "      <td>9240.040324</td>\n",
       "      <td>10911.099340</td>\n",
       "      <td>2694.058548</td>\n",
       "      <td>8442.591644</td>\n",
       "    </tr>\n",
       "    <tr>\n",
       "      <td>2005</td>\n",
       "      <td>8548.282637</td>\n",
       "      <td>1720.099773</td>\n",
       "      <td>9416.363871</td>\n",
       "      <td>11386.429982</td>\n",
       "      <td>2707.975139</td>\n",
       "      <td>9068.295325</td>\n",
       "    </tr>\n",
       "    <tr>\n",
       "      <td>2006</td>\n",
       "      <td>9147.756746</td>\n",
       "      <td>1771.944778</td>\n",
       "      <td>9675.389006</td>\n",
       "      <td>11754.251777</td>\n",
       "      <td>2796.031014</td>\n",
       "      <td>9424.569634</td>\n",
       "    </tr>\n",
       "    <tr>\n",
       "      <td>2007</td>\n",
       "      <td>9869.912412</td>\n",
       "      <td>1821.789888</td>\n",
       "      <td>10151.842720</td>\n",
       "      <td>12223.484611</td>\n",
       "      <td>2906.435212</td>\n",
       "      <td>10014.894956</td>\n",
       "    </tr>\n",
       "    <tr>\n",
       "      <td>2008</td>\n",
       "      <td>10169.162651</td>\n",
       "      <td>1901.887717</td>\n",
       "      <td>10560.211451</td>\n",
       "      <td>12486.950637</td>\n",
       "      <td>3049.866916</td>\n",
       "      <td>10698.079804</td>\n",
       "    </tr>\n",
       "    <tr>\n",
       "      <td>2009</td>\n",
       "      <td>9460.017963</td>\n",
       "      <td>1933.729996</td>\n",
       "      <td>10443.319812</td>\n",
       "      <td>12222.415943</td>\n",
       "      <td>2890.338755</td>\n",
       "      <td>11112.491603</td>\n",
       "    </tr>\n",
       "    <tr>\n",
       "      <td>2010</td>\n",
       "      <td>10332.032366</td>\n",
       "      <td>1981.160105</td>\n",
       "      <td>11121.420954</td>\n",
       "      <td>12785.051875</td>\n",
       "      <td>3225.591754</td>\n",
       "      <td>11938.275055</td>\n",
       "    </tr>\n",
       "    <tr>\n",
       "      <td>2011</td>\n",
       "      <td>10853.259534</td>\n",
       "      <td>2051.173662</td>\n",
       "      <td>11446.600905</td>\n",
       "      <td>13385.131216</td>\n",
       "      <td>3320.801103</td>\n",
       "      <td>12513.027602</td>\n",
       "    </tr>\n",
       "  </tbody>\n",
       "</table>\n",
       "</div>"
      ],
      "text/plain": [
       "Country Name     Argentina      Bolivia        Brazil         Chile  \\\n",
       "2001           7756.187018  1613.410246   8743.909691  10037.839034   \n",
       "2002           6834.962261  1623.519169   8880.166124  10132.548640   \n",
       "2003           7357.408446  1637.808504   8855.152078  10409.770102   \n",
       "2004           7934.902330  1676.228147   9240.040324  10911.099340   \n",
       "2005           8548.282637  1720.099773   9416.363871  11386.429982   \n",
       "2006           9147.756746  1771.944778   9675.389006  11754.251777   \n",
       "2007           9869.912412  1821.789888  10151.842720  12223.484611   \n",
       "2008          10169.162651  1901.887717  10560.211451  12486.950637   \n",
       "2009           9460.017963  1933.729996  10443.319812  12222.415943   \n",
       "2010          10332.032366  1981.160105  11121.420954  12785.051875   \n",
       "2011          10853.259534  2051.173662  11446.600905  13385.131216   \n",
       "\n",
       "Country Name     Paraguay       Uruguay  \n",
       "2001          2618.724799   8636.583130  \n",
       "2002          2569.689981   7967.209466  \n",
       "2003          2633.236547   8036.519289  \n",
       "2004          2694.058548   8442.591644  \n",
       "2005          2707.975139   9068.295325  \n",
       "2006          2796.031014   9424.569634  \n",
       "2007          2906.435212  10014.894956  \n",
       "2008          3049.866916  10698.079804  \n",
       "2009          2890.338755  11112.491603  \n",
       "2010          3225.591754  11938.275055  \n",
       "2011          3320.801103  12513.027602  "
      ]
     },
     "execution_count": 10,
     "metadata": {},
     "output_type": "execute_result"
    }
   ],
   "source": [
    "# show data\n",
    "data"
   ]
  },
  {
   "cell_type": "code",
   "execution_count": 11,
   "metadata": {},
   "outputs": [],
   "source": [
    "plt.style.use('fivethirtyeight')"
   ]
  },
  {
   "cell_type": "code",
   "execution_count": 12,
   "metadata": {},
   "outputs": [
    {
     "data": {
      "image/png": "[encoded data removed]",
      "text/plain": [
       "<Figure size 864x360 with 1 Axes>"
      ]
     },
     "metadata": {},
     "output_type": "display_data"
    }
   ],
   "source": [
    "# Plot\n",
    "data.plot(figsize=(12,5), lw=4);\n",
    "plt.xlabel('Years')\n",
    "plt.ylabel('GDP in US Dollars $')\n",
    "plt.title('Argentina Border countries GDP 2001-2011')\n",
    "plt.show()"
   ]
  },
  {
   "cell_type": "code",
   "execution_count": 13,
   "metadata": {},
   "outputs": [],
   "source": [
    "# So, We see tha all the Border countries are rising except Paraguay and Bolivia"
   ]
  },
  {
   "cell_type": "code",
   "execution_count": null,
   "metadata": {},
   "outputs": [],
   "source": []
  }
 ],
 "metadata": {
  "kernelspec": {
   "display_name": "Python 3",
   "language": "python",
   "name": "python3"
  },
  "language_info": {
   "codemirror_mode": {
    "name": "ipython",
    "version": 3
   },
   "file_extension": ".py",
   "mimetype": "text/x-python",
   "name": "python",
   "nbconvert_exporter": "python",
   "pygments_lexer": "ipython3",
   "version": "3.7.1"
  }
 },
 "nbformat": 4,
 "nbformat_minor": 1
}
